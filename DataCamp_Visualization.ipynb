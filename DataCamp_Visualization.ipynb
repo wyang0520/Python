{
 "cells": [
  {
   "cell_type": "markdown",
   "metadata": {},
   "source": [
    "# Working with Images"
   ]
  },
  {
   "cell_type": "markdown",
   "metadata": {},
   "source": [
    "Load the image into an array: image"
   ]
  },
  {
   "cell_type": "code",
   "execution_count": null,
   "metadata": {},
   "outputs": [],
   "source": [
    "image = plt.imread('640px-Unequalized_Hawkes_Bay_NZ.jpg')\n",
    "\n",
    "# Extract minimum and maximum values from the image: pmin, pmax\n",
    "pmin, pmax = image.min(), image.max()\n",
    "print(\"The smallest & largest pixel intensities are %d & %d.\" % (pmin, pmax))\n",
    "\n",
    "# Rescale the pixels: rescaled_image\n",
    "rescaled_image = 256*(image - pmin) / (pmax - pmin)\n",
    "print(\"The rescaled smallest & largest pixel intensities are %.1f & %.1f.\" % \n",
    "      (rescaled_image.min(), rescaled_image.max()))\n",
    "\n",
    "# Display the rescaled image\n",
    "plt.title('rescaled image')\n",
    "plt.axis('off')\n",
    "plt.imshow(rescaled_image)\n",
    "\n",
    "plt.show()"
   ]
  },
  {
   "cell_type": "markdown",
   "metadata": {},
   "source": [
    "Higher-order Regressions"
   ]
  },
  {
   "cell_type": "code",
   "execution_count": null,
   "metadata": {},
   "outputs": [],
   "source": [
    "# Generate a scatter plot of 'weight' and 'mpg' using red circles\n",
    "plt.scatter(auto['weight'], auto['mpg'], label='data', color='red', marker='o')\n",
    "\n",
    "# Plot in blue a linear regression of order 1 between 'weight' and 'mpg'\n",
    "sns.regplot(x='weight', y='mpg', data=auto, scatter=None, color='blue', label='First Order')\n",
    "\n",
    "# Plot in green a linear regression of order 2 between 'weight' and 'mpg'\n",
    "sns.regplot(x='weight',y='mpg',data=auto,scatter=None, color='green',order = 2,label='Second Order')\n",
    "\n",
    "# Add a legend and display the plot\n",
    "plt.legend(loc='upper right')\n",
    "plt.show()\n",
    " "
   ]
  },
  {
   "cell_type": "markdown",
   "metadata": {},
   "source": [
    "Contructing Violinplot and Stripplot"
   ]
  },
  {
   "cell_type": "code",
   "execution_count": null,
   "metadata": {},
   "outputs": [],
   "source": [
    "# Generate a violin plot of 'hp' grouped horizontally by 'cyl'\n",
    "plt.subplot(2,1,1)\n",
    "sns.violinplot(x='cyl', y='hp', data=auto)\n",
    "\n",
    "# Generate the same violin plot again with a color of 'lightgray' and without inner annotations\n",
    "plt.subplot(2,1,2)\n",
    "sns.violinplot(x='cyl',y='hp',data=auto,inner=None,color='lightgray')\n",
    "\n",
    "# Overlay a strip plot on the violin plot\n",
    "sns.stripplot(x='cyl',y='hp',data=auto,jitter= True,size=1.5)\n",
    "\n",
    "# Display the plot\n",
    "plt.show()"
   ]
  },
  {
   "cell_type": "markdown",
   "metadata": {},
   "source": [
    "Multiple time seriese on common axes"
   ]
  },
  {
   "cell_type": "code",
   "execution_count": null,
   "metadata": {},
   "outputs": [],
   "source": [
    "# Import matplotlib.pyplot as plt\n",
    "import matplotlib.pyplot as plt\n",
    "\n",
    "# Plot the aapl time series in blue\n",
    "plt.plot(aapl, color='blue', label='AAPL')\n",
    "\n",
    "# Plot the ibm time series in green\n",
    "plt.plot(ibm, color='green', label='IBM')\n",
    "\n",
    "# Plot the csco time series in red\n",
    "plt.plot(csco, color='red', label='CSCO')\n",
    "\n",
    "# Plot the msft time series in magenta\n",
    "plt.plot(msft,color='magenta',label='MSFT')\n",
    "\n",
    "# Add a legend in the top left corner of the plot\n",
    "plt.legend(loc='upper left')\n",
    "\n",
    "# Specify the orientation of the xticks\n",
    "plt.xticks(rotation=60)\n",
    "\n",
    "# Display the plot\n",
    "plt.show()"
   ]
  },
  {
   "cell_type": "markdown",
   "metadata": {},
   "source": [
    "Plotting an inset view"
   ]
  },
  {
   "cell_type": "code",
   "execution_count": null,
   "metadata": {},
   "outputs": [],
   "source": [
    "# Slice aapl from Nov. 2007 to Apr. 2008 inclusive: view\n",
    "view = aapl['2007-11':'2008-04']\n",
    "\n",
    "# Plot the entire series \n",
    "plt.plot(aapl)\n",
    "plt.xticks(rotation=45)\n",
    "plt.title('AAPL: 2001-2011')\n",
    "\n",
    "# Specify the axes\n",
    "plt.axes([0.25,0.5,0.35,0.35])\n",
    "\n",
    "# Plot the sliced series in red using the current axes\n",
    "plt.plot(view,color='red')\n",
    "plt.xticks(rotation=45)\n",
    "plt.title('2007/11-2008/04')\n",
    "plt.show()"
   ]
  },
  {
   "cell_type": "markdown",
   "metadata": {},
   "source": [
    "Cumulative Distribution Function from an image histogram"
   ]
  },
  {
   "cell_type": "code",
   "execution_count": null,
   "metadata": {},
   "outputs": [],
   "source": [
    "\n",
    "# Load the image into an array: image\n",
    "image = plt.imread('640px-Unequalized_Hawkes_Bay_NZ.jpg')\n",
    "\n",
    "# Display image in top subplot using color map 'gray'\n",
    "plt.subplot(2,1,1)\n",
    "plt.imshow(image, cmap='gray')\n",
    "plt.title('Original image')\n",
    "plt.axis('off')\n",
    "\n",
    "# Flatten the image into 1 dimension: pixels\n",
    "pixels = image.flatten()\n",
    "\n",
    "# Display a histogram of the pixels in the bottom subplot\n",
    "plt.subplot(2,1,2)\n",
    "pdf = plt.hist(pixels, bins=64, range=(0,256), normed=False,\n",
    "               color='red', alpha=0.4)\n",
    "plt.grid('off')\n",
    "\n",
    "# Use plt.twinx() to overlay the CDF in the bottom subplot\n",
    "plt.twinx()\n",
    "\n",
    "# Display a cumulative histogram of the pixels\n",
    "cdf = plt.hist(pixels, bins=64, range=(0,256),\n",
    "               cumulative=True, normed=True,\n",
    "               color='blue', alpha=0.4)\n",
    "               \n",
    "# Specify x-axis range, hide axes, add title and display plot\n",
    "plt.xlim((0,256))\n",
    "plt.grid('off')\n",
    "plt.title('PDF & CDF (original image)')\n",
    "plt.show()\n"
   ]
  },
  {
   "cell_type": "markdown",
   "metadata": {},
   "source": [
    "A Simple Scatter Plot using Bokeh"
   ]
  },
  {
   "cell_type": "code",
   "execution_count": null,
   "metadata": {},
   "outputs": [],
   "source": [
    "# Import figure from bokeh.plotting\n",
    "from bokeh.plotting import figure\n",
    "\n",
    "# Import output_file and show from bokeh.io\n",
    "from bokeh.io import output_file, show\n",
    "\n",
    "# Create the figure: p\n",
    "p = figure(x_axis_label='fertility (children per woman)', y_axis_label='female_literacy (% population)')\n",
    "\n",
    "# Add a circle glyph to the figure p\n",
    "p.circle(female_literacy, fertility)\n",
    "\n",
    "# Call the output_file() function and specify the name of the file\n",
    "output_file('fert_lit.html')\n",
    "\n",
    "# Display the plot\n",
    "show(p)\n"
   ]
  },
  {
   "cell_type": "markdown",
   "metadata": {},
   "source": [
    "Lines and Markets using Bokeh"
   ]
  },
  {
   "cell_type": "code",
   "execution_count": null,
   "metadata": {},
   "outputs": [],
   "source": [
    "# Import figure from bokeh.plotting\n",
    "from bokeh.plotting import figure\n",
    "\n",
    "# Create a figure with x_axis_type='datetime': p\n",
    "p = figure(x_axis_type='datetime', x_axis_label='Date', y_axis_label='US Dollars')\n",
    "\n",
    "# Plot date along the x-axis and price along the y-axis\n",
    "p.line(date,price)\n",
    "\n",
    "# With date on the x-axis and price on the y-axis, add a white circle glyph of size 4\n",
    "p.circle(date, price, fill_color='white', size=4)\n",
    "\n",
    "# Specify the name of the output file and show the result\n",
    "output_file('line.html')\n",
    "show(p)"
   ]
  },
  {
   "cell_type": "markdown",
   "metadata": {},
   "source": [
    "Patches using Bokeh"
   ]
  },
  {
   "cell_type": "code",
   "execution_count": null,
   "metadata": {},
   "outputs": [],
   "source": [
    "# Create a list of az_lons, co_lons, nm_lons and ut_lons: x\n",
    "x = [az_lons, co_lons, nm_lons, ut_lons]\n",
    "\n",
    "# Create a list of az_lats, co_lats, nm_lats and ut_lats: y\n",
    "y = [az_lats,co_lats,nm_lats,ut_lats]\n",
    "\n",
    "# Add patches to figure p with line_color=white for x and y\n",
    "p.patches(x,y,line_color='white')\n",
    "\n",
    "# Specify the name of the output file and show the result\n",
    "output_file('four_corners.html')\n",
    "show(p)"
   ]
  },
  {
   "cell_type": "markdown",
   "metadata": {},
   "source": [
    "Bokeh with Numpy"
   ]
  },
  {
   "cell_type": "code",
   "execution_count": null,
   "metadata": {},
   "outputs": [],
   "source": [
    "# Import numpy as np\n",
    "import numpy as np\n",
    "\n",
    "# Create array using np.linspace: x\n",
    "x = np.linspace(0,5,100)\n",
    "\n",
    "# Create array using np.cos: y\n",
    "y = np.cos(x)\n",
    "\n",
    "# Add circles at x and y\n",
    "p.circle(x,y)\n",
    "\n",
    "# Specify the name of the output file and show the result\n",
    "output_file('numpy.html')\n",
    "show(p)"
   ]
  },
  {
   "cell_type": "markdown",
   "metadata": {},
   "source": [
    "Bokeh with DataFrames"
   ]
  },
  {
   "cell_type": "code",
   "execution_count": null,
   "metadata": {},
   "outputs": [],
   "source": [
    "# Import pandas as pd\n",
    "import pandas as pd\n",
    "\n",
    "# Read in the CSV file: df\n",
    "df = pd.read_csv('auto.csv')\n",
    "\n",
    "# Import figure from bokeh.plotting\n",
    "from bokeh.plotting import figure\n",
    "\n",
    "# Create the figure: p\n",
    "p = figure(x_axis_label='HP', y_axis_label='MPG')\n",
    "\n",
    "# Plot mpg vs hp by color\n",
    "p.circle(df['hp'],df['mpg'],color = df['color'],size=10)\n",
    "\n",
    "# Specify the name of the output file and show the result\n",
    "output_file('auto-df.html')\n",
    "show(p)"
   ]
  },
  {
   "cell_type": "markdown",
   "metadata": {},
   "source": [
    "Bokeh using tools"
   ]
  },
  {
   "cell_type": "code",
   "execution_count": null,
   "metadata": {},
   "outputs": [],
   "source": [
    "# Create a figure with the \"box_select\" tool: \n",
    "p = figure(tools='box_select',x_axis_label='Year', y_axis_label='Time')\n",
    "\n",
    "# Add circle glyphs to the figure p with the selected and non-selected properties\n",
    "p.circle('Year','Time',source=source,selection_color = 'red', nonselection_alpha=0.1 )\n",
    "# Specify the name of the output file and show the result\n",
    "output_file('selection_glyph.html')\n",
    "show(p)\n",
    "\n",
    "\n",
    "#Create a figure with the HoverTool\n",
    "# import the HoverTool\n",
    "from bokeh.models import HoverTool\n",
    "\n",
    "# Add circle glyphs to figure p\n",
    "p.circle(x, y, size=10,\n",
    "         fill_color='grey', alpha=0.1, line_color=None,\n",
    "         hover_fill_color='firebrick', hover_alpha=0.5,\n",
    "         hover_line_color='white')\n",
    "\n",
    "# Create a HoverTool: hover\n",
    "hover = HoverTool(tooltips=None, mode='vline')\n",
    "\n",
    "# Add the hover tool to the figure p\n",
    "p.add_tools(hover)\n",
    "\n",
    "# Specify the name of the output file and show the result\n",
    "output_file('hover_glyph.html')\n",
    "show(p)\n",
    "\n",
    "\n",
    "#Colormapping using Bokeh\n",
    "\n",
    "#Import CategoricalColorMapper from bokeh.models\n",
    "from bokeh.models import CategoricalColorMapper\n",
    "\n",
    "# Convert df to a ColumnDataSource: source\n",
    "source = ColumnDataSource(df)\n",
    "\n",
    "# Make a CategoricalColorMapper object: color_mapper\n",
    "color_mapper = CategoricalColorMapper(factors=['Europe', 'Asia', 'US'],\n",
    "                                      palette=['red', 'green', 'blue'])\n",
    "\n",
    "# Add a circle glyph to the figure p\n",
    "p.circle('weight', 'mpg', source=source,\n",
    "        color = dict(field='origin', transform=color_mapper), \n",
    "        legend='origin')\n",
    "\n",
    "# Specify the name of the output file and show the result\n",
    "output_file('colormap.html')\n",
    "show(p)\n",
    "\n",
    "\n"
   ]
  },
  {
   "cell_type": "markdown",
   "metadata": {},
   "source": [
    "Bokeh Layouts"
   ]
  },
  {
   "cell_type": "code",
   "execution_count": null,
   "metadata": {},
   "outputs": [],
   "source": [
    "#rows\n",
    "# Import row from bokeh.layouts\n",
    "from bokeh.layouts import row\n",
    "\n",
    "# Create the first figure: p1\n",
    "p1 = figure(x_axis_label='fertility (children per woman)', y_axis_label='female_literacy (% population)')\n",
    "\n",
    "# Add a circle glyph to p1\n",
    "p1.circle('fertility','female_literacy', source = source)\n",
    "\n",
    "# Create the second figure: p2\n",
    "p2 = figure(x_axis_label='population', y_axis_label='female_literacy (% population)')\n",
    "\n",
    "# Add a circle glyph to p2\n",
    "p2.circle('population','female_literacy',source=source)\n",
    "\n",
    "# Put p1 and p2 into a horizontal row: layout\n",
    "layout = row(p1,p2)\n",
    "\n",
    "# Specify the name of the output_file and show the result\n",
    "output_file('fert_row.html')\n",
    "show(layout)\n",
    "\n",
    "\n",
    "#columns\n",
    "# Import column from the bokeh.layouts module\n",
    "from bokeh.layouts import column\n",
    "\n",
    "# Create a blank figure: p1\n",
    "p1 = figure(x_axis_label='fertilnity (children per woman)', y_axis_label='female_literacy (% population)')\n",
    "\n",
    "# Add circle scatter to the figure p1\n",
    "p1.circle('fertility', 'female_literacy', source=source)\n",
    "\n",
    "# Create a new blank figure: p2\n",
    "p2 = figure(x_axis_label='population', y_axis_label = 'female_literacy (% population)')\n",
    "\n",
    "# Add circle scatter to the figure p2\n",
    "p2.circle('population','female_literacy', source = source)\n",
    "\n",
    "# Put plots p1 and p2 in a column: layout\n",
    "layout = column(p1,p2)\n",
    "\n",
    "# Specify the name of the output_file and show the result\n",
    "output_file('fert_column.html')\n",
    "show(layout)\n",
    "\n",
    "\n",
    "\n",
    "\n",
    "#nested\n",
    "# mpg_hp, mpg_weight, avg_mpg are predefined figure variables\n",
    "\n",
    "# Import column and row from bokeh.layouts\n",
    "from bokeh.layouts import column, row\n",
    "\n",
    "# Make a row layout that will be used as the second row: row2\n",
    "row2 = row([mpg_hp, mpg_weight], sizing_mode='scale_width')\n",
    "\n",
    "# Make a column layout that includes the above row layout: layout\n",
    "layout = column([avg_mpg, row2], sizing_mode='scale_width')\n",
    "\n",
    "# Specify the name of the output_file and show the result\n",
    "output_file('layout_custom.html')\n",
    "show(layout)\n",
    "\n",
    "\n",
    "\n",
    "#Gridplot layouts\n",
    "# Import gridplot from bokeh.layouts\n",
    "from bokeh.layouts import gridplot\n",
    "\n",
    "# Create a list containing plots p1 and p2: row1\n",
    "row1 = [p1,p2]\n",
    "\n",
    "# Create a list containing plots p3 and p4: row2\n",
    "row2 = [p3,p4]\n",
    "\n",
    "# Create a gridplot using row1 and row2: layout\n",
    "layout = gridplot([row1,row2])\n",
    "\n",
    "# Specify the name of the output_file and show the result\n",
    "output_file('grid.html')\n",
    "show(layout)\n",
    "\n",
    "\n",
    "#Panel layout\n",
    "# Import Panel from bokeh.models.widgets\n",
    "from bokeh.models.widgets import Panel\n",
    "\n",
    "# Create tab1 from plot p1: tab1\n",
    "tab1 = Panel(child=p1, title='Latin America')\n",
    "\n",
    "# Create tab2 from plot p2: tab2\n",
    "tab2 = Panel(child=p2, title='Africa')\n",
    "\n",
    "# Create tab3 from plot p3: tab3\n",
    "tab3 = Panel(child=p3, title='Asia')\n",
    "\n",
    "# Create tab4 from plot p4: tab4\n",
    "tab4 = Panel(child=p4, title = 'Europe')\n",
    "\n",
    "# Import Tabs from bokeh.models.widgets\n",
    "from bokeh.models.widgets import Tabs\n",
    "\n",
    "# Create a Tabs layout: layout\n",
    "layout = Tabs(layout=[tab1, tab2, tab3, tab4])\n",
    "\n",
    "# Specify the name of the output_file and show the result\n",
    "output_file('tabs.html')\n",
    "show(layout)"
   ]
  },
  {
   "cell_type": "markdown",
   "metadata": {},
   "source": [
    "Bokeh: Link plots together"
   ]
  },
  {
   "cell_type": "code",
   "execution_count": null,
   "metadata": {},
   "outputs": [],
   "source": [
    "# Link the x_range of p2 to p1: p2.x_range\n",
    "p2.x_range = p1.x_range\n",
    "\n",
    "# Link the y_range of p2 to p1: p2.y_range\n",
    "p2.y_range = p1.y_range\n",
    "\n",
    "# Link the x_range of p3 to p1: p3.x_range\n",
    "p3.x_range = p1.x_range\n",
    "\n",
    "# Link the y_range of p4 to p1: p4.y_range\n",
    "p4.y_range = p1.y_range\n",
    "\n",
    "# Specify the name of the output_file and show the result\n",
    "output_file('linked_range.html')\n",
    "show(layout)\n"
   ]
  }
 ],
 "metadata": {
  "kernelspec": {
   "display_name": "Python 3",
   "language": "python",
   "name": "python3"
  },
  "language_info": {
   "codemirror_mode": {
    "name": "ipython",
    "version": 3
   },
   "file_extension": ".py",
   "mimetype": "text/x-python",
   "name": "python",
   "nbconvert_exporter": "python",
   "pygments_lexer": "ipython3",
   "version": "3.6.4"
  }
 },
 "nbformat": 4,
 "nbformat_minor": 2
}
